{
 "cells": [
  {
   "cell_type": "code",
   "execution_count": 157,
   "metadata": {},
   "outputs": [
    {
     "data": {
      "image/png": "[encoded data removed]",
      "text/plain": [
       "<matplotlib.figure.Figure at 0x244f79c19b0>"
      ]
     },
     "metadata": {},
     "output_type": "display_data"
    }
   ],
   "source": [
    "import numpy as np\n",
    "import matplotlib.pyplot as plt\n",
    "from scipy.integrate import odeint\n",
    "#import tellurium as te; te.setDefaultPlottingEngine('matplotlib')\n",
    "#%matplotlib inline\n",
    "\n",
    "\n",
    "H=2\n",
    "Kxy=0.1\n",
    "Kxz=0.1\n",
    "Kyz=0.5\n",
    "\n",
    "\n",
    "\n",
    "\n",
    "def model(C, t):\n",
    "    X1=C[0]\n",
    "    Y1=C[1]\n",
    "    \n",
    "    dydt = (X1/Kxy)**(H)  /  (1+(X1/Kxy)**(H)) - Y\n",
    "    dzdt = ((X1/Kxz)**(H)*(Y1/Kyz)**(H))  /   ((1+(X1/Kxz)**(H))*(1+(Y1/Kyz)**(H))) #-Z\n",
    "    return [dydt, dzdt]\n",
    "\n",
    "\n",
    "t = np.linspace(0, 20, 100)\n",
    "C0=[0,1]\n",
    "erg =  odeint(model, C0, t)\n",
    "\n",
    "t2= np.linspace(20,40,100)\n",
    "C1=[1,1]\n",
    "erg2= odeint(model, C1, t2)\n",
    "\n",
    "t3= np.linspace (40,60, 100)\n",
    "C2=[0,1]\n",
    "erg3= odeint(model, C2, t3)\n",
    "\n",
    "\n",
    "plt.plot(t, erg[:,0], 'r', linewidth=2.0)\n",
    "plt.plot(t, erg[:,1], 'b', linewidth=2.0)\n",
    "plt.plot(t2, erg2[:,0], 'r-', linewidth=2.0)\n",
    "plt.plot(t2, erg2[:,1], 'b-', linewidth=2.0)\n",
    "plt.plot(t2, erg2[:,0], 'r--', linewidth=2.0)\n",
    "plt.plot(t2, erg2[:,1], 'b--', linewidth=2.0)\n",
    "\n",
    "plt.xlabel('time')\n",
    "plt.ylabel('Z(t)')\n",
    "plt.show()\n",
    "\n",
    "\n",
    "\n"
   ]
  }
 ],
 "metadata": {
  "kernelspec": {
   "display_name": "Python 3",
   "language": "python",
   "name": "python3"
  },
  "language_info": {
   "codemirror_mode": {
    "name": "ipython",
    "version": 3
   },
   "file_extension": ".py",
   "mimetype": "text/x-python",
   "name": "python",
   "nbconvert_exporter": "python",
   "pygments_lexer": "ipython3",
   "version": "3.6.3"
  }
 },
 "nbformat": 4,
 "nbformat_minor": 2
}
